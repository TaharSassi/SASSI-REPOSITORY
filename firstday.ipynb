{
 "cells": [
  {
   "cell_type": "code",
   "execution_count": 1,
   "id": "275d4ddd-437f-4052-9edd-462986e48ca5",
   "metadata": {},
   "outputs": [
    {
     "name": "stdout",
     "output_type": "stream",
     "text": [
      "rania\n"
     ]
    }
   ],
   "source": [
    "print('rania')"
   ]
  },
  {
   "cell_type": "code",
   "execution_count": null,
   "id": "caf41d16-ab41-42a1-b0f5-9cb608f1d8b5",
   "metadata": {},
   "outputs": [],
   "source": []
  },
  {
   "cell_type": "code",
   "execution_count": null,
   "id": "ba3dcf68-6a68-45d7-b3cc-05250c90ba5d",
   "metadata": {},
   "outputs": [],
   "source": []
  }
 ],
 "metadata": {
  "kernelspec": {
   "display_name": "Python 3",
   "language": "python",
   "name": "python3"
  },
  "language_info": {
   "codemirror_mode": {
    "name": "ipython",
    "version": 3
   },
   "file_extension": ".py",
   "mimetype": "text/x-python",
   "name": "python",
   "nbconvert_exporter": "python",
   "pygments_lexer": "ipython3",
   "version": "3.8.8"
  }
 },
 "nbformat": 4,
 "nbformat_minor": 5
}
